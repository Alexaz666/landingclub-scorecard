{
 "cells": [
  {
   "cell_type": "markdown",
   "metadata": {},
   "source": [
    "# Credit Scorecard Project – Data Cleaning (Test Set)"
   ]
  },
  {
   "cell_type": "markdown",
   "metadata": {},
   "source": [
    "## 1. Setup & Imports\n",
    "- Import libraries\n",
    "- Set plotting styles"
   ]
  },
  {
   "cell_type": "code",
   "execution_count": 1,
   "metadata": {},
   "outputs": [],
   "source": [
    "import json\n",
    "import numpy as np\n",
    "import math\n",
    "import pandas as pd\n",
    "import seaborn as sns\n",
    "import matplotlib.pyplot as plt\n",
    "from IPython.core.interactiveshell import InteractiveShell\n",
    "from dateutil.relativedelta import relativedelta\n",
    "\n",
    "from sklearn.feature_selection import VarianceThreshold"
   ]
  },
  {
   "cell_type": "code",
   "execution_count": 2,
   "metadata": {},
   "outputs": [],
   "source": [
    "# Display settings\n",
    "InteractiveShell.ast_node_interactivity = \"all\"\n",
    "pd.set_option('display.float_format', '{:.3f}'.format)\n",
    "pd.set_option('display.max_columns', None)\n",
    "pd.set_option('display.max_rows', None)\n",
    "\n",
    "import warnings\n",
    "warnings.filterwarnings(\"ignore\")"
   ]
  },
  {
   "cell_type": "markdown",
   "metadata": {},
   "source": [
    "## 2. Load Data"
   ]
  },
  {
   "cell_type": "code",
   "execution_count": 3,
   "metadata": {},
   "outputs": [],
   "source": [
    "# Read in test data and feature meta file\n",
    "df_test = pd.read_csv('../data/interim/test_raw.csv')\n",
    "fmeta = pd.read_csv('../dictionaries/feature_meta.csv')"
   ]
  },
  {
   "cell_type": "code",
   "execution_count": 4,
   "metadata": {},
   "outputs": [
    {
     "name": "stdout",
     "output_type": "stream",
     "text": [
      "(205520, 134)\n"
     ]
    }
   ],
   "source": [
    "print(df_test.shape)"
   ]
  },
  {
   "cell_type": "markdown",
   "metadata": {},
   "source": [
    "## 3. Clean Test Data - Apply Training Treatment"
   ]
  },
  {
   "cell_type": "markdown",
   "metadata": {},
   "source": [
    "### 3.1 Apply Transformations (Recoded Variables)"
   ]
  },
  {
   "cell_type": "code",
   "execution_count": 5,
   "metadata": {},
   "outputs": [
    {
     "data": {
      "text/html": [
       "<div>\n",
       "<style scoped>\n",
       "    .dataframe tbody tr th:only-of-type {\n",
       "        vertical-align: middle;\n",
       "    }\n",
       "\n",
       "    .dataframe tbody tr th {\n",
       "        vertical-align: top;\n",
       "    }\n",
       "\n",
       "    .dataframe thead th {\n",
       "        text-align: right;\n",
       "    }\n",
       "</style>\n",
       "<table border=\"1\" class=\"dataframe\">\n",
       "  <thead>\n",
       "    <tr style=\"text-align: right;\">\n",
       "      <th></th>\n",
       "      <th>Variable_Name</th>\n",
       "      <th>trans_vars</th>\n",
       "    </tr>\n",
       "  </thead>\n",
       "  <tbody>\n",
       "    <tr>\n",
       "      <th>2</th>\n",
       "      <td>addr_state</td>\n",
       "      <td>addr_state_grouped</td>\n",
       "    </tr>\n",
       "    <tr>\n",
       "      <th>22</th>\n",
       "      <td>earliest_cr_line</td>\n",
       "      <td>mnths_since_earliest_cr_line</td>\n",
       "    </tr>\n",
       "    <tr>\n",
       "      <th>23</th>\n",
       "      <td>emp_length</td>\n",
       "      <td>emp_length_num</td>\n",
       "    </tr>\n",
       "    <tr>\n",
       "      <th>42</th>\n",
       "      <td>home_ownership</td>\n",
       "      <td>home_ownership_grouped</td>\n",
       "    </tr>\n",
       "  </tbody>\n",
       "</table>\n",
       "</div>"
      ],
      "text/plain": [
       "       Variable_Name                    trans_vars\n",
       "2         addr_state            addr_state_grouped\n",
       "22  earliest_cr_line  mnths_since_earliest_cr_line\n",
       "23        emp_length                emp_length_num\n",
       "42    home_ownership        home_ownership_grouped"
      ]
     },
     "execution_count": 5,
     "metadata": {},
     "output_type": "execute_result"
    }
   ],
   "source": [
    "# Variables to be transformed\n",
    "fmeta[fmeta['Transform']==1][['Variable_Name', 'trans_vars']]"
   ]
  },
  {
   "cell_type": "code",
   "execution_count": 6,
   "metadata": {},
   "outputs": [],
   "source": [
    "# emp_length\n",
    "# Convert to numeric scale\n",
    "\n",
    "with open(\"../artifacts/addr_state_risk_map.json\", \"r\") as f:\n",
    "    addr_state_risk_map = json.load(f)\n",
    "\n",
    "def map_state_risk_band(df, mapping):\n",
    "    df['addr_state_grouped'] = df['addr_state'].map(mapping)\n",
    "    df.drop(columns='addr_state', inplace=True)\n",
    "    return df\n",
    "\n",
    "df_test = map_state_risk_band(df_test, addr_state_risk_map)"
   ]
  },
  {
   "cell_type": "code",
   "execution_count": 7,
   "metadata": {},
   "outputs": [],
   "source": [
    "# earliest_cr_line \n",
    "# Convert to mnths_since_earliest_cr_line\n",
    "\n",
    "def compute_months_since_earliest_cr_line(df):\n",
    "    # Ensure datetime conversion\n",
    "    df['earliest_cr_line'] = pd.to_datetime(df['earliest_cr_line'], errors='coerce')\n",
    "    df['issue_d'] = pd.to_datetime(df['issue_d'], errors='coerce')  # in case not yet converted\n",
    "\n",
    "    # Calculate months difference\n",
    "    def month_diff(row):\n",
    "        if pd.isnull(row['earliest_cr_line']) or pd.isnull(row['issue_d']):\n",
    "            return np.nan\n",
    "        rd = relativedelta(row['issue_d'], row['earliest_cr_line'])\n",
    "        return rd.years * 12 + rd.months\n",
    "\n",
    "    df['mnths_since_earliest_cr_line'] = df.apply(month_diff, axis=1)\n",
    "    df.drop(columns='earliest_cr_line', inplace=True)\n",
    "    return df\n",
    "\n",
    "df_test = compute_months_since_earliest_cr_line(df_test)"
   ]
  },
  {
   "cell_type": "code",
   "execution_count": 8,
   "metadata": {},
   "outputs": [],
   "source": [
    "# emp_length\n",
    "# Convert to numeric scale\n",
    "\n",
    "with open(\"../artifacts/emp_length_map.json\", \"r\") as f:\n",
    "    emp_length_map = json.load(f)\n",
    "\n",
    "def map_emp_length(df, mapping):\n",
    "    df['emp_length_num'] = df['emp_length'].map(mapping)\n",
    "    df.drop(columns='emp_length', inplace=True)\n",
    "    return df\n",
    "\n",
    "df_test = map_emp_length(df_test, emp_length_map)"
   ]
  },
  {
   "cell_type": "code",
   "execution_count": 9,
   "metadata": {},
   "outputs": [],
   "source": [
    "# home_ownership\n",
    "# Group ANY, OTHER, NONE into one group\n",
    "\n",
    "def group_home_ownership(df, col='home_ownership', new_col='home_ownership_grouped'):\n",
    "    def other_group(x):\n",
    "        return 'Other' if x in ['ANY', 'NONE', 'OTHER'] else x\n",
    "    \n",
    "    df[new_col] = df[col].apply(other_group)\n",
    "    df.drop(columns=col, inplace=True)\n",
    "    return df\n",
    "\n",
    "df_test = group_home_ownership(df_test)"
   ]
  },
  {
   "cell_type": "markdown",
   "metadata": {},
   "source": [
    "### 3.2 Create Flags"
   ]
  },
  {
   "cell_type": "code",
   "execution_count": 10,
   "metadata": {},
   "outputs": [
    {
     "data": {
      "text/html": [
       "<div>\n",
       "<style scoped>\n",
       "    .dataframe tbody tr th:only-of-type {\n",
       "        vertical-align: middle;\n",
       "    }\n",
       "\n",
       "    .dataframe tbody tr th {\n",
       "        vertical-align: top;\n",
       "    }\n",
       "\n",
       "    .dataframe thead th {\n",
       "        text-align: right;\n",
       "    }\n",
       "</style>\n",
       "<table border=\"1\" class=\"dataframe\">\n",
       "  <thead>\n",
       "    <tr style=\"text-align: right;\">\n",
       "      <th></th>\n",
       "      <th>Variable_Name</th>\n",
       "      <th>flag_vars</th>\n",
       "    </tr>\n",
       "  </thead>\n",
       "  <tbody>\n",
       "    <tr>\n",
       "      <th>0</th>\n",
       "      <td>acc_now_delinq</td>\n",
       "      <td>f_acc_now_delinq_gt0</td>\n",
       "    </tr>\n",
       "    <tr>\n",
       "      <th>10</th>\n",
       "      <td>chargeoff_within_12_mths</td>\n",
       "      <td>f_chargeoff_within_12_mths_gt0</td>\n",
       "    </tr>\n",
       "    <tr>\n",
       "      <th>12</th>\n",
       "      <td>collections_12_mths_ex_med</td>\n",
       "      <td>f_collections_12_mths_ex_med_gt0</td>\n",
       "    </tr>\n",
       "    <tr>\n",
       "      <th>17</th>\n",
       "      <td>delinq_amnt</td>\n",
       "      <td>f_delinq_amnt_gt0</td>\n",
       "    </tr>\n",
       "    <tr>\n",
       "      <th>85</th>\n",
       "      <td>num_tl_120dpd_2m</td>\n",
       "      <td>f_num_tl_120dpd_2m_gt0</td>\n",
       "    </tr>\n",
       "    <tr>\n",
       "      <th>86</th>\n",
       "      <td>num_tl_30dpd</td>\n",
       "      <td>f_num_tl_30dpd_gt0</td>\n",
       "    </tr>\n",
       "    <tr>\n",
       "      <th>130</th>\n",
       "      <td>term</td>\n",
       "      <td>f_term_60</td>\n",
       "    </tr>\n",
       "    <tr>\n",
       "      <th>132</th>\n",
       "      <td>tot_coll_amt</td>\n",
       "      <td>f_tot_coll_amt_gt0</td>\n",
       "    </tr>\n",
       "    <tr>\n",
       "      <th>150</th>\n",
       "      <td>zip_code</td>\n",
       "      <td>f_hi_risk_zip</td>\n",
       "    </tr>\n",
       "  </tbody>\n",
       "</table>\n",
       "</div>"
      ],
      "text/plain": [
       "                  Variable_Name                         flag_vars\n",
       "0                acc_now_delinq              f_acc_now_delinq_gt0\n",
       "10     chargeoff_within_12_mths    f_chargeoff_within_12_mths_gt0\n",
       "12   collections_12_mths_ex_med  f_collections_12_mths_ex_med_gt0\n",
       "17                  delinq_amnt                 f_delinq_amnt_gt0\n",
       "85             num_tl_120dpd_2m            f_num_tl_120dpd_2m_gt0\n",
       "86                 num_tl_30dpd                f_num_tl_30dpd_gt0\n",
       "130                        term                         f_term_60\n",
       "132                tot_coll_amt                f_tot_coll_amt_gt0\n",
       "150                    zip_code                     f_hi_risk_zip"
      ]
     },
     "execution_count": 10,
     "metadata": {},
     "output_type": "execute_result"
    }
   ],
   "source": [
    "# Variables to create a falg for\n",
    "fmeta[fmeta['Flag']==1][['Variable_Name', 'flag_vars']]"
   ]
  },
  {
   "cell_type": "code",
   "execution_count": 11,
   "metadata": {},
   "outputs": [
    {
     "data": {
      "text/plain": [
       "f_term_60\n",
       "0   0.766\n",
       "1   0.234\n",
       "Name: proportion, dtype: float64"
      ]
     },
     "execution_count": 11,
     "metadata": {},
     "output_type": "execute_result"
    }
   ],
   "source": [
    "# term \n",
    "def create_term_flag(df):\n",
    "    df = df.copy()\n",
    "    df['f_term_60'] = (df['term'] == ' 60 months').astype(int)\n",
    "    df.drop(columns='term', inplace=True)\n",
    "    return df \n",
    "\n",
    "df_test = create_term_flag(df_test)\n",
    "df_test['f_term_60'].value_counts(normalize=True)"
   ]
  },
  {
   "cell_type": "code",
   "execution_count": 12,
   "metadata": {},
   "outputs": [
    {
     "data": {
      "text/plain": [
       "f_hi_risk_zip\n",
       "0   0.950\n",
       "1   0.050\n",
       "Name: proportion, dtype: float64"
      ]
     },
     "execution_count": 12,
     "metadata": {},
     "output_type": "execute_result"
    }
   ],
   "source": [
    "# High-risk zip code flags\n",
    "\n",
    "# Read in high-risk zip code list\n",
    "with open(\"../artifacts/hi_risk_zip.json\", \"r\") as f:\n",
    "    hi_risk_zip_list = json.load(f)\n",
    "\n",
    "# map zip-code\n",
    "def create_hi_risk_zip_flag(df, hi_risk_zip_list):\n",
    "    df = df.copy()\n",
    "    df['f_hi_risk_zip'] = df[\"zip_code\"].isin(hi_risk_zip_list).astype(int)\n",
    "    df.drop(columns=\"zip_code\", inplace=True)\n",
    "    return df\n",
    "\n",
    "df_test = create_hi_risk_zip_flag(df_test, hi_risk_zip_list)\n",
    "df_test['f_hi_risk_zip'].value_counts(normalize=True)"
   ]
  },
  {
   "cell_type": "code",
   "execution_count": 13,
   "metadata": {},
   "outputs": [
    {
     "name": "stdout",
     "output_type": "stream",
     "text": [
      "f_acc_now_delinq_gt0\n",
      "0   0.997\n",
      "1   0.003\n",
      "Name: proportion, dtype: float64 \n",
      "\n",
      "f_chargeoff_within_12_mths_gt0\n",
      "0   0.991\n",
      "1   0.009\n",
      "Name: proportion, dtype: float64 \n",
      "\n",
      "f_collections_12_mths_ex_med_gt0\n",
      "0   0.980\n",
      "1   0.020\n",
      "Name: proportion, dtype: float64 \n",
      "\n",
      "f_delinq_amnt_gt0\n",
      "0   0.997\n",
      "1   0.003\n",
      "Name: proportion, dtype: float64 \n",
      "\n",
      "f_num_tl_120dpd_2m_gt0\n",
      "0   0.999\n",
      "1   0.001\n",
      "Name: proportion, dtype: float64 \n",
      "\n",
      "f_num_tl_30dpd_gt0\n",
      "0   0.998\n",
      "1   0.002\n",
      "Name: proportion, dtype: float64 \n",
      "\n",
      "f_tot_coll_amt_gt0\n",
      "0   0.837\n",
      "1   0.163\n",
      "Name: proportion, dtype: float64 \n",
      "\n"
     ]
    }
   ],
   "source": [
    "# batch create gt0 flags (greater than 1)\n",
    "gt0_flag_vars = list(fmeta[fmeta['flag_vars'].str.contains('gt0', na=False)]['Variable_Name'])\n",
    "\n",
    "def create_gt0_flag(df, var_list):\n",
    "    for var in var_list:\n",
    "        df[f'f_{var}_gt0'] = (df[var]>0).astype(int)\n",
    "        print(df[f'f_{var}_gt0'].value_counts(normalize=True),\"\\n\")\n",
    "    return df\n",
    "\n",
    "df_test = create_gt0_flag(df_test, gt0_flag_vars)\n",
    "\n",
    "# Drop variables after flag creation\n",
    "gt0_flag_vars.remove(\"tot_coll_amt\") # not drop tot_coll_amt\n",
    "df_test.drop(columns=gt0_flag_vars, inplace=True)"
   ]
  },
  {
   "cell_type": "markdown",
   "metadata": {},
   "source": [
    "### 3.3 Apply Capping"
   ]
  },
  {
   "cell_type": "code",
   "execution_count": 14,
   "metadata": {},
   "outputs": [],
   "source": [
    "for idx, row in fmeta.query(\"Cap == 1\").iterrows():\n",
    "    var = row['Variable_Name']\n",
    "    cap_up = row['cap_val_upper']\n",
    "    cap_low = row.get('cap_val_lower', None)\n",
    "\n",
    "    # Create flag if exists\n",
    "    flag_name = row.get('cap_flags')\n",
    "    if pd.notna(flag_name):\n",
    "        df_test[flag_name] = (df_test[var] > cap_up).astype(int) if not pd.isna(cap_up) else 0\n",
    "    \n",
    "    if not pd.isna(cap_low):\n",
    "        df_test[var] = df_test[var].clip(lower=cap_low)\n",
    "    if not pd.isna(cap_up):\n",
    "        df_test[var] = df_test[var].clip(upper=cap_up)"
   ]
  },
  {
   "cell_type": "code",
   "execution_count": 15,
   "metadata": {},
   "outputs": [
    {
     "name": "stdout",
     "output_type": "stream",
     "text": [
      "F_CAPPED_AMOUNT\n",
      "0   0.998\n",
      "1   0.002\n",
      "Name: proportion, dtype: float64 \n",
      "\n",
      "F_CAPPED_MNTHS\n",
      "0   1.000\n",
      "1   0.000\n",
      "Name: proportion, dtype: float64 \n",
      "\n",
      "F_OVERLIMIT\n",
      "0   0.997\n",
      "1   0.003\n",
      "Name: proportion, dtype: float64 \n",
      "\n",
      "F_CAPPED_DELQ\n",
      "0   0.999\n",
      "1   0.001\n",
      "Name: proportion, dtype: float64 \n",
      "\n",
      "F_CAPPED_NUMACCTS\n",
      "0   0.998\n",
      "1   0.002\n",
      "Name: proportion, dtype: float64 \n",
      "\n",
      "F_CAPPED_INC\n",
      "0   0.992\n",
      "1   0.008\n",
      "Name: proportion, dtype: float64 \n",
      "\n"
     ]
    }
   ],
   "source": [
    "# Check capped pctg\n",
    "cap_flags = list(set(fmeta[fmeta['Cap']==1]['cap_flags']))\n",
    "\n",
    "for flag in cap_flags:\n",
    "    print(df_test[flag].value_counts(normalize=True),\"\\n\")"
   ]
  },
  {
   "cell_type": "markdown",
   "metadata": {},
   "source": [
    "### 3.4 Impute Missing Values"
   ]
  },
  {
   "cell_type": "code",
   "execution_count": 16,
   "metadata": {},
   "outputs": [],
   "source": [
    "# Batch imputation based on the missing treatment documentation is the feature meta file\n",
    "for idx, row in fmeta[fmeta['miss_impute_val'].notna()].iterrows():\n",
    "    var = row['Variable_Name']\n",
    "    impute_val = row['miss_impute_val']\n",
    "    flag_name = row.get('miss_flags')\n",
    "\n",
    "    if pd.notna(flag_name):\n",
    "        df_test[flag_name] = df_test[var].isna().astype(int)\n",
    "    \n",
    "    df_test[var] = df_test[var].fillna(impute_val)"
   ]
  },
  {
   "cell_type": "code",
   "execution_count": 17,
   "metadata": {},
   "outputs": [
    {
     "data": {
      "text/plain": [
       "id                                                 0\n",
       "member_id                                     205520\n",
       "loan_amnt                                          0\n",
       "funded_amnt                                        0\n",
       "funded_amnt_inv                                    0\n",
       "int_rate                                           0\n",
       "installment                                        0\n",
       "grade                                              0\n",
       "sub_grade                                          0\n",
       "emp_title                                      14453\n",
       "annual_inc                                         0\n",
       "verification_status                                0\n",
       "issue_d                                            0\n",
       "pymnt_plan                                         0\n",
       "url                                                0\n",
       "desc                                          205520\n",
       "purpose                                            0\n",
       "title                                              0\n",
       "dti                                                0\n",
       "delinq_2yrs                                        0\n",
       "fico_range_low                                     0\n",
       "fico_range_high                                    0\n",
       "inq_last_6mths                                     0\n",
       "mths_since_last_delinq                             0\n",
       "mths_since_last_record                             0\n",
       "open_acc                                           0\n",
       "pub_rec                                            0\n",
       "revol_bal                                          0\n",
       "revol_util                                         0\n",
       "total_acc                                          0\n",
       "initial_list_status                                0\n",
       "out_prncp                                          0\n",
       "out_prncp_inv                                      0\n",
       "total_pymnt                                        0\n",
       "total_pymnt_inv                                    0\n",
       "total_rec_prncp                                    0\n",
       "total_rec_int                                      0\n",
       "total_rec_late_fee                                 0\n",
       "recoveries                                         0\n",
       "collection_recovery_fee                            0\n",
       "last_pymnt_d                                    1020\n",
       "last_pymnt_amnt                                    0\n",
       "next_pymnt_d                                  205498\n",
       "last_credit_pull_d                                 4\n",
       "last_fico_range_high                               0\n",
       "last_fico_range_low                                0\n",
       "mths_since_last_major_derog                        0\n",
       "policy_code                                        0\n",
       "tot_coll_amt                                       0\n",
       "tot_cur_bal                                        0\n",
       "open_acc_6m                                        0\n",
       "open_act_il                                        0\n",
       "open_il_12m                                        0\n",
       "open_il_24m                                        0\n",
       "mths_since_rcnt_il                                 0\n",
       "total_bal_il                                       0\n",
       "il_util                                            0\n",
       "open_rv_12m                                        0\n",
       "open_rv_24m                                        0\n",
       "max_bal_bc                                         0\n",
       "all_util                                           0\n",
       "total_rev_hi_lim                                   0\n",
       "inq_fi                                             0\n",
       "total_cu_tl                                        0\n",
       "inq_last_12m                                       0\n",
       "acc_open_past_24mths                               0\n",
       "avg_cur_bal                                        0\n",
       "bc_open_to_buy                                     0\n",
       "bc_util                                            0\n",
       "mo_sin_old_il_acct                                 0\n",
       "mo_sin_old_rev_tl_op                               0\n",
       "mo_sin_rcnt_rev_tl_op                              0\n",
       "mo_sin_rcnt_tl                                     0\n",
       "mort_acc                                           0\n",
       "mths_since_recent_bc                               0\n",
       "mths_since_recent_bc_dlq                           0\n",
       "mths_since_recent_inq                              0\n",
       "mths_since_recent_revol_delinq                     0\n",
       "num_accts_ever_120_pd                              0\n",
       "num_actv_bc_tl                                     0\n",
       "num_actv_rev_tl                                    0\n",
       "num_bc_sats                                        0\n",
       "num_bc_tl                                          0\n",
       "num_il_tl                                          0\n",
       "num_op_rev_tl                                      0\n",
       "num_rev_accts                                      0\n",
       "num_rev_tl_bal_gt_0                                0\n",
       "num_sats                                           0\n",
       "num_tl_90g_dpd_24m                                 0\n",
       "num_tl_op_past_12m                                 0\n",
       "pct_tl_nvr_dlq                                     0\n",
       "percent_bc_gt_75                                   0\n",
       "pub_rec_bankruptcies                               0\n",
       "tax_liens                                          0\n",
       "tot_hi_cred_lim                                    0\n",
       "total_bal_ex_mort                                  0\n",
       "total_bc_limit                                     0\n",
       "total_il_high_credit_limit                         0\n",
       "hardship_flag                                      0\n",
       "hardship_type                                 204592\n",
       "hardship_reason                               204592\n",
       "hardship_status                               204592\n",
       "deferral_term                                 204592\n",
       "hardship_amount                               204592\n",
       "hardship_start_date                           204592\n",
       "hardship_end_date                             204592\n",
       "payment_plan_start_date                       204592\n",
       "hardship_length                               204592\n",
       "hardship_dpd                                  204592\n",
       "hardship_loan_status                          204592\n",
       "orig_projected_additional_accrued_interest    205034\n",
       "hardship_payoff_balance_amount                204592\n",
       "hardship_last_payment_amount                  204592\n",
       "disbursement_method                                0\n",
       "debt_settlement_flag                               0\n",
       "debt_settlement_flag_date                     201464\n",
       "settlement_status                             201464\n",
       "settlement_date                               201464\n",
       "settlement_amount                             201464\n",
       "settlement_percentage                         201464\n",
       "settlement_term                               201464\n",
       "GB_FLAG                                            0\n",
       "addr_state_grouped                                 0\n",
       "mnths_since_earliest_cr_line                       0\n",
       "emp_length_num                                 13913\n",
       "home_ownership_grouped                             0\n",
       "f_term_60                                          0\n",
       "f_hi_risk_zip                                      0\n",
       "f_acc_now_delinq_gt0                               0\n",
       "f_chargeoff_within_12_mths_gt0                     0\n",
       "f_collections_12_mths_ex_med_gt0                   0\n",
       "f_delinq_amnt_gt0                                  0\n",
       "f_num_tl_120dpd_2m_gt0                             0\n",
       "f_num_tl_30dpd_gt0                                 0\n",
       "f_tot_coll_amt_gt0                                 0\n",
       "F_CAPPED_NUMACCTS                                  0\n",
       "F_OVERLIMIT                                        0\n",
       "F_CAPPED_INC                                       0\n",
       "F_CAPPED_AMOUNT                                    0\n",
       "F_CAPPED_MNTHS                                     0\n",
       "F_CAPPED_DELQ                                      0\n",
       "f_miss_block5                                      0\n",
       "f_miss_block1                                      0\n",
       "f_miss_block2                                      0\n",
       "f_miss_block3                                      0\n",
       "f_miss_il_util                                     0\n",
       "f_miss_mo_sin_old_il_acct                          0\n",
       "f_miss_mths_since_last_delinq                      0\n",
       "f_miss_mths_since_last_major_derog                 0\n",
       "f_miss_mths_since_last_record                      0\n",
       "f_miss_mths_since_recent_bc_dlq                    0\n",
       "f_miss_mths_since_recent_inq                       0\n",
       "f_miss_mths_since_recent_revol_delinq              0\n",
       "f_miss_block4                                      0\n",
       "f_miss_revol_util                                  0\n",
       "dtype: int64"
      ]
     },
     "execution_count": 17,
     "metadata": {},
     "output_type": "execute_result"
    }
   ],
   "source": [
    "# Check missing counts after imputation\n",
    "df_test.isna().sum()"
   ]
  },
  {
   "cell_type": "markdown",
   "metadata": {},
   "source": [
    "`emp_length_num` wasn't treated as it's transformed from the original variables `emp_length` and wasn't in the variable list of the feature meta file.\n",
    "\n",
    "Missing values in `emp_length_num` were \n",
    "* imputed with -1, and \n",
    "* a missing flag `f_emp_length_missing` created \n",
    "\n",
    "in the training set and the same will be applied to the test set. "
   ]
  },
  {
   "cell_type": "code",
   "execution_count": 18,
   "metadata": {},
   "outputs": [
    {
     "name": "stdout",
     "output_type": "stream",
     "text": [
      "Missing counts after imputation:\n",
      " emp_length_num    0\n",
      "dtype: int64 \n",
      "\n",
      "f_emp_length_missing\n",
      "0   0.932\n",
      "1   0.068\n",
      "Name: proportion, dtype: float64\n"
     ]
    }
   ],
   "source": [
    "# Create a flag for missing employment length\n",
    "df_test['f_emp_length_missing'] = df_test['emp_length_num'].isna().astype(int)\n",
    "\n",
    "# impute with -1\n",
    "df_test['emp_length_num'] = df_test['emp_length_num'].fillna(-1)\n",
    "\n",
    "# Check missing counts after imputation\n",
    "print(\"Missing counts after imputation:\\n\", df_test[['emp_length_num']].isna().sum(),\"\\n\")\n",
    "print(df_test[\"f_emp_length_missing\"].value_counts(normalize=True))"
   ]
  },
  {
   "cell_type": "markdown",
   "metadata": {},
   "source": [
    "### 3.5 Drop Redundant Features\n",
    "\n",
    "Drop variables that have been discarded in the training set treatment due to leakage and other reasons."
   ]
  },
  {
   "cell_type": "code",
   "execution_count": 19,
   "metadata": {},
   "outputs": [
    {
     "name": "stdout",
     "output_type": "stream",
     "text": [
      "(205520, 104)\n"
     ]
    }
   ],
   "source": [
    "# Get the dropped variable list\n",
    "drop_all = fmeta[fmeta['Drop']==1]['Variable_Name'].to_list()\n",
    "\n",
    "# Some variables are already dropped before train-test split; find the remaining ones\n",
    "test_vars = df_test.columns.to_list()\n",
    "drop_test = list(set(drop_all) & set(test_vars))\n",
    "\n",
    "# Drop variables\n",
    "df_test.drop(columns=drop_test, inplace=True)\n",
    "print(df_test.shape)\n"
   ]
  },
  {
   "cell_type": "markdown",
   "metadata": {},
   "source": [
    "## 4. Consistency Checking Against the Training Set"
   ]
  },
  {
   "cell_type": "code",
   "execution_count": 20,
   "metadata": {},
   "outputs": [
    {
     "data": {
      "text/plain": [
       "True"
      ]
     },
     "execution_count": 20,
     "metadata": {},
     "output_type": "execute_result"
    }
   ],
   "source": [
    "# Check if both datasets have the same set of variables\n",
    "df_train = pd.read_csv('../data/interim/train_base_cleaned.csv')\n",
    "set(df_test.columns) == set(df_train.columns)"
   ]
  },
  {
   "cell_type": "code",
   "execution_count": 21,
   "metadata": {},
   "outputs": [],
   "source": [
    "df_test.to_csv('../data/interim/test_base_cleaned.csv', index=False)"
   ]
  }
 ],
 "metadata": {
  "kernelspec": {
   "display_name": "Python (venv)",
   "language": "python",
   "name": "venv"
  },
  "language_info": {
   "codemirror_mode": {
    "name": "ipython",
    "version": 3
   },
   "file_extension": ".py",
   "mimetype": "text/x-python",
   "name": "python",
   "nbconvert_exporter": "python",
   "pygments_lexer": "ipython3",
   "version": "3.11.7"
  }
 },
 "nbformat": 4,
 "nbformat_minor": 2
}
